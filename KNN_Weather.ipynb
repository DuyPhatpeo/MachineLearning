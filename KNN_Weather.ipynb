{
 "cells": [
  {
   "cell_type": "markdown",
   "metadata": {},
   "source": [
    "<h1>KNN</h1>"
   ]
  },
  {
   "cell_type": "markdown",
   "metadata": {},
   "source": [
    "# Dự báo thời tiết với KNN\n",
    "\n",
    "Notebook này thực hiện các bước sau:\n",
    "- Đọc và tiền xử lý dữ liệu từ file `weatherHCM_preprocessed.csv`\n",
    "- Tách dữ liệu thành tập huấn luyện và kiểm tra\n",
    "- Huấn luyện mô hình KNN\n",
    "- Đánh giá mô hình\n",
    "- Dự báo thời tiết cho nhiều mẫu dữ liệu mới\n"
   ]
  },
  {
   "cell_type": "code",
   "execution_count": 3,
   "metadata": {},
   "outputs": [
    {
     "name": "stdout",
     "output_type": "stream",
     "text": [
      "Dữ liệu đã được tiền xử lý.\n"
     ]
    }
   ],
   "source": [
    "import pandas as pd\n",
    "\n",
    "# Đọc file CSV\n",
    "file_path = \"weatherHCM_preprocessed.csv\"  # Cập nhật đường dẫn nếu cần\n",
    "df = pd.read_csv(file_path, sep=\"\\t\")\n",
    "\n",
    "# Chọn các cột đặc trưng\n",
    "feature_columns = [\"Temp\", \"Feels\", \"Gust\", \"Rain\", \"Humidity\", \"Cloud\", \"Pressure\", \"Wind Speed\"]\n",
    "X = df[feature_columns].copy()\n",
    "\n",
    "# Chuyển đổi các cột sang kiểu số và xử lý giá trị thiếu\n",
    "X = X.apply(pd.to_numeric, errors=\"coerce\")\n",
    "X.fillna(X.mean(), inplace=True)\n",
    "\n",
    "# Mã hóa biến mục tiêu \"Weather\"\n",
    "from sklearn.preprocessing import LabelEncoder\n",
    "label_encoder = LabelEncoder()\n",
    "y = label_encoder.fit_transform(df[\"Weather\"])\n",
    "\n",
    "print(\"Dữ liệu đã được tiền xử lý.\")\n"
   ]
  },
  {
   "cell_type": "code",
   "execution_count": 2,
   "metadata": {},
   "outputs": [
    {
     "name": "stdout",
     "output_type": "stream",
     "text": [
      "Dữ liệu huấn luyện: (27980, 8), Dữ liệu kiểm tra: (6996, 8)\n"
     ]
    }
   ],
   "source": [
    "from sklearn.model_selection import train_test_split\n",
    "\n",
    "X_train, X_test, y_train, y_test = train_test_split(X, y, test_size=0.2, random_state=42)\n",
    "\n",
    "print(f\"Dữ liệu huấn luyện: {X_train.shape}, Dữ liệu kiểm tra: {X_test.shape}\")\n"
   ]
  },
  {
   "cell_type": "markdown",
   "metadata": {},
   "source": [
    "## Huấn Luyện Mô Hình KNN"
   ]
  },
  {
   "cell_type": "code",
   "execution_count": 4,
   "metadata": {},
   "outputs": [
    {
     "name": "stdout",
     "output_type": "stream",
     "text": [
      "Độ chính xác của KNN (k=8): 65.51%\n",
      "Thứ tự mã hóa của nhãn Weather: ['Clear' 'Cloudy' 'Mist' 'Overcast' 'Rain' 'Sunny']\n"
     ]
    }
   ],
   "source": [
    "from sklearn.neighbors import KNeighborsClassifier\n",
    "from sklearn.metrics import accuracy_score\n",
    "\n",
    "# Khởi tạo mô hình KNN với k\n",
    "k = 8\n",
    "knn_model = KNeighborsClassifier(n_neighbors=k)\n",
    "\n",
    "# Huấn luyện mô hình\n",
    "knn_model.fit(X_train, y_train)\n",
    "\n",
    "# Đánh giá mô hình\n",
    "y_pred = knn_model.predict(X_test)\n",
    "accuracy = accuracy_score(y_test, y_pred)\n",
    "\n",
    "print(f\"Độ chính xác của KNN (k={k}): {accuracy:.2%}\")\n",
    "print(\"Thứ tự mã hóa của nhãn Weather:\", label_encoder.classes_)\n"
   ]
  },
  {
   "cell_type": "markdown",
   "metadata": {},
   "source": [
    "## Dự Báo Thời Tiết Cho Dữ Liệu Mới"
   ]
  },
  {
   "cell_type": "code",
   "execution_count": 30,
   "metadata": {},
   "outputs": [
    {
     "name": "stdout",
     "output_type": "stream",
     "text": [
      "Dữ liệu mới 1: Dự báo thời tiết -> Overcast\n",
      "Dữ liệu mới 2: Dự báo thời tiết -> Mist\n",
      "Dữ liệu mới 3: Dự báo thời tiết -> Cloudy\n",
      "Dữ liệu mới 4: Dự báo thời tiết -> Mist\n"
     ]
    }
   ],
   "source": [
    "# Danh sách dữ liệu mới\n",
    "new_samples = [\n",
    "    {\"Temp\": 30.0, \"Feels\": 34.0, \"Gust\": 5.0, \"Rain\": 0.0, \"Humidity\": 70.0, \"Cloud\": 50.0, \"Pressure\": 1008.0, \"Wind Speed\": 3.0},\n",
    "    {\"Temp\": 25.0, \"Feels\": 27.0, \"Gust\": 2.0, \"Rain\": 1.0, \"Humidity\": 80.0, \"Cloud\": 90.0, \"Pressure\": 1012.0, \"Wind Speed\": 4.0},\n",
    "    {\"Temp\": 35.0, \"Feels\": 38.0, \"Gust\": 8.0, \"Rain\": 0.0, \"Humidity\": 60.0, \"Cloud\": 20.0, \"Pressure\": 1005.0, \"Wind Speed\": 5.0},\n",
    "    {\"Temp\": 28.0, \"Feels\": 30.0, \"Gust\": 3.0, \"Rain\": 2.0, \"Humidity\": 90.0, \"Cloud\": 85.0, \"Pressure\": 1015.0, \"Wind Speed\": 2.0}\n",
    "]\n",
    "\n",
    "# Chuyển thành DataFrame\n",
    "new_data_df = pd.DataFrame(new_samples, columns=feature_columns)\n",
    "\n",
    "# Dự báo\n",
    "y_new_pred = knn_model.predict(new_data_df)\n",
    "weather_preds = label_encoder.inverse_transform(y_new_pred)\n",
    "\n",
    "# In kết quả\n",
    "for i, pred in enumerate(weather_preds):\n",
    "    print(f\"Dữ liệu mới {i+1}: Dự báo thời tiết -> {pred}\")\n"
   ]
  }
 ],
 "metadata": {
  "kernelspec": {
   "display_name": "Python 3",
   "language": "python",
   "name": "python3"
  },
  "language_info": {
   "codemirror_mode": {
    "name": "ipython",
    "version": 3
   },
   "file_extension": ".py",
   "mimetype": "text/x-python",
   "name": "python",
   "nbconvert_exporter": "python",
   "pygments_lexer": "ipython3",
   "version": "3.13.2"
  }
 },
 "nbformat": 4,
 "nbformat_minor": 2
}
